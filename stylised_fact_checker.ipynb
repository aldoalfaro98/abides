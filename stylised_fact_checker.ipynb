{
 "cells": [
  {
   "cell_type": "markdown",
   "metadata": {},
   "source": [
    "# Stylized fact checker"
   ]
  },
  {
   "cell_type": "markdown",
   "metadata": {},
   "source": [
    "This notebook shows graphs from stylized facts referred by Vyetrenko et al. in their paper Get Real: Realism Metrics for Robust Limit Order Book Market Simulations.\n",
    "The code was adapted from stylised_fact_checker.ipynb by GitHub @chris-jh-cho."
   ]
  },
  {
   "cell_type": "markdown",
   "metadata": {},
   "source": [
    "### 0. Initialise packages and data"
   ]
  },
  {
   "cell_type": "code",
   "execution_count": 1,
   "metadata": {},
   "outputs": [],
   "source": [
    "# Call packages\n",
    "import numpy as np \n",
    "import pandas as pd \n",
    "import scipy.stats as stats\n",
    "import matplotlib.pyplot as plt\n",
    "from util.formatting.mid_price_from_orderbook import save_mid_price\n",
    "from sklearn import preprocessing\n",
    "import seaborn as sns\n",
    "from datetime import datetime as dt\n",
    "import datetime as dt"
   ]
  },
  {
   "cell_type": "code",
   "execution_count": 2,
   "metadata": {},
   "outputs": [],
   "source": [
    "# Retrieve and save midprice using prebuilt util in ABIDES\n",
    "# N.B. Inputs here are (file_loc, output_loc)\n",
    "log_file = \"log/simple_spoofing_123456789/\"\n",
    "\n",
    "#save_mid_price(log_file + \"ORDERBOOK_ABM_FULL.bz2\", log_file)"
   ]
  },
  {
   "cell_type": "code",
   "execution_count": 3,
   "metadata": {},
   "outputs": [],
   "source": [
    "# Read midprice data\n",
    "mid_price = pd.read_pickle(\"data/synthetic_fundamental.bz2\")\n",
    "sim_mid_price = pd.read_pickle(log_file + \"ORDERBOOK_ABM_FULL_mid_price.bz2\")\n",
    "# clean to fit timeframe\n",
    "starttime = pd.to_datetime('2020-01-01 09:30:00')\n",
    "endtime = pd.to_datetime('2020-01-01 11:29:59')\n",
    "\n",
    "mid_price = mid_price[(mid_price.index >= starttime) & (mid_price.index <= endtime)]\n",
    "\n",
    "sim_mid_price.index = sim_mid_price.index.floor('S').tz_localize(None)\n",
    "sim_mid_price = sim_mid_price[~sim_mid_price.index.duplicated(keep='first')]"
   ]
  },
  {
   "cell_type": "code",
   "execution_count": 4,
   "metadata": {},
   "outputs": [
    {
     "name": "stderr",
     "output_type": "stream",
     "text": [
      "<ipython-input-4-a2108d8b1098>:8: FutureWarning: The default value of regex will change from True to False in a future version. In addition, single character regular expressions will *not* be treated as literal strings when regex=True.\n",
      "  df['PRICE'] = df['PRICE'].str.replace('$','').astype('float64')\n"
     ]
    }
   ],
   "source": [
    "# query data from exchange agent\n",
    "df = pd.read_pickle(log_file + \"EXCHANGE_AGENT.bz2\")\n",
    "\n",
    "# grab trade info from the agent\n",
    "df = df[df['EventType'] == 'LAST_TRADE']\n",
    "df['PRICE'] = [y for x,y in df['Event'].str.split(',')]\n",
    "df['SIZE'] = [x for x,y in df['Event'].str.split(',')]\n",
    "df['PRICE'] = df['PRICE'].str.replace('$','').astype('float64')\n",
    "df['SIZE'] = df['SIZE'].astype('float64')\n",
    "\n",
    "# populate trade info into order stream\n",
    "sim_order_stream = pd.DataFrame({\n",
    "                            \"Price\": df.PRICE,\n",
    "                            \"Size\": df.SIZE,\n",
    "                            \"Time\": df.index\n",
    "})\n",
    "\n",
    "\n",
    "# Minutely resampling and renaming columns.\n",
    "df = df[[\"PRICE\",\"SIZE\"]].resample(\"1T\")\n",
    "df_open = df[\"PRICE\"].first().ffill()\n",
    "df_close = df[\"PRICE\"].last().ffill()\n",
    "df_high = df[\"PRICE\"].max().ffill()\n",
    "df_low = df[\"PRICE\"].min().ffill()\n",
    "df_vol = df[\"SIZE\"].sum()\n",
    "ohlcv = pd.DataFrame({\n",
    "    \"open\": df_open,\n",
    "    \"high\": df_high,\n",
    "    \"low\": df_low,\n",
    "    \"close\": df_close,\n",
    "    \"volume\": df_vol\n",
    "})\n",
    "\n",
    "sim_orders = ohlcv[[\"open\", \"volume\"]]"
   ]
  },
  {
   "cell_type": "code",
   "execution_count": 5,
   "metadata": {},
   "outputs": [
    {
     "name": "stdout",
     "output_type": "stream",
     "text": [
      "<class 'pandas.core.series.Series'>\n",
      "DatetimeIndex: 7077 entries, 2020-01-01 09:30:00 to 2020-01-01 11:29:59\n",
      "Series name: None\n",
      "Non-Null Count  Dtype  \n",
      "--------------  -----  \n",
      "7077 non-null   float64\n",
      "dtypes: float64(1)\n",
      "memory usage: 110.6 KB\n"
     ]
    }
   ],
   "source": [
    "# query data from exchange agent\n",
    "df = pd.read_pickle(log_file + \"SpoofingAgent5178.bz2\")\n",
    "\n",
    "# grab trade info from the agent\n",
    "df\n",
    "sim_mid_price.info()"
   ]
  },
  {
   "cell_type": "markdown",
   "metadata": {},
   "source": [
    "## Stylised facts to check\n",
    "\n",
    "Note the following:\n",
    "\n",
    "\\begin{equation}\n",
    "m_t = \\frac{a_t + b_t}{2}\n",
    "\\end{equation}\n",
    "\n",
    "\\begin{equation}\n",
    "r_{t,\\Delta t} = ln(m_{t + \\Delta t}) - ln(m_t)\n",
    "\\end{equation}\n",
    "\n",
    "The graphs will be presented in the same order as Vyetrenko et al\n"
   ]
  },
  {
   "cell_type": "markdown",
   "metadata": {},
   "source": [
    "\n",
    "### 1. Heavy tails and aggregation normality (high kurtosis)\n"
   ]
  },
  {
   "cell_type": "code",
   "execution_count": 6,
   "metadata": {},
   "outputs": [
    {
     "name": "stderr",
     "output_type": "stream",
     "text": [
      "<ipython-input-6-d81d57a9d9a5>:7: RuntimeWarning: invalid value encountered in log\n",
      "  sim_log_returns = np.log(sim_returns)\n"
     ]
    },
    {
     "data": {
      "image/png": "[encoded data removed]",
      "text/plain": [
       "<Figure size 432x288 with 1 Axes>"
      ]
     },
     "metadata": {
      "needs_background": "light"
     },
     "output_type": "display_data"
    },
    {
     "data": {
      "text/plain": [
       "<Figure size 432x288 with 0 Axes>"
      ]
     },
     "metadata": {},
     "output_type": "display_data"
    }
   ],
   "source": [
    "# calculate returns\n",
    "returns = np.array((mid_price[1:]))/np.array((mid_price[:-1]))\n",
    "sim_returns = np.array((sim_mid_price[1:]))/np.array((sim_mid_price[:-1]))\n",
    "\n",
    "# log values\n",
    "log_returns = np.log(returns)\n",
    "sim_log_returns = np.log(sim_returns)\n",
    "\n",
    "# plot\n",
    "plt.hist(log_returns, bins=100, density=1, alpha=0.5)\n",
    "plt.hist(sim_log_returns, bins=100, density=1, alpha=0.5)\n",
    "plt.yscale(\"log\")\n",
    "plt.legend(['Actual','Simulation'])\n",
    "plt.ylabel('Log frequecy')\n",
    "plt.xlabel('Log returns (log scale)')\n",
    "plt.title('Log returns per second')\n",
    "plt.show()\n",
    "\n",
    "plt.savefig('Log_returns.png')"
   ]
  },
  {
   "cell_type": "markdown",
   "metadata": {},
   "source": [
    "\n",
    "\n",
    "### 2. Absence of autocorrelations in periods greater than 20 minutes\n",
    "\n",
    "We will set the asset return times scale $(\\Delta t)$ to 1 minute and period $\\tau$ to 30 minutes.\n",
    "\n",
    "\n",
    "\\begin{equation}\n",
    "corr(r_{t + \\tau, \\Delta t}, r_{t, \\Delta t})\n",
    "\\end{equation}\n",
    "\n",
    "The graph shows a 30 minute batches\n",
    "\n",
    "-- *Need more samples* --\n",
    "\n"
   ]
  },
  {
   "cell_type": "code",
   "execution_count": 7,
   "metadata": {
    "tags": []
   },
   "outputs": [
    {
     "name": "stderr",
     "output_type": "stream",
     "text": [
      "C:\\Users\\Aldo Alfaro\\anaconda3\\lib\\site-packages\\numpy\\lib\\function_base.py:2642: RuntimeWarning: invalid value encountered in true_divide\n",
      "  c /= stddev[:, None]\n",
      "C:\\Users\\Aldo Alfaro\\anaconda3\\lib\\site-packages\\numpy\\lib\\function_base.py:2643: RuntimeWarning: invalid value encountered in true_divide\n",
      "  c /= stddev[None, :]\n"
     ]
    },
    {
     "data": {
      "image/png": "[encoded data removed]",
      "text/plain": [
       "<Figure size 432x288 with 1 Axes>"
      ]
     },
     "metadata": {
      "needs_background": "light"
     },
     "output_type": "display_data"
    },
    {
     "data": {
      "text/plain": [
       "<Figure size 432x288 with 0 Axes>"
      ]
     },
     "metadata": {},
     "output_type": "display_data"
    }
   ],
   "source": [
    "# set correlation period and asset return interval\n",
    "\n",
    "# check correlation period of upto an hour\n",
    "corr_period = range(1, 61)\n",
    "asset_return_interval = 1\n",
    "\n",
    "\n",
    "# Convert price data to asset returns data\n",
    "returns = mid_price.diff(periods=asset_return_interval)[asset_return_interval:]\n",
    "sim_returns = sim_mid_price.diff(periods=asset_return_interval)[asset_return_interval:]\n",
    "\n",
    "\n",
    "# convert to log returns\n",
    "corr = []\n",
    "sim_corr = []\n",
    "\n",
    "# initialise\n",
    "i = 0\n",
    "j = 0\n",
    "batch_len = 20\n",
    "\n",
    "# Convert asset returns data to correlation over set periods \n",
    "while i + batch_len*2 <= len(returns):\n",
    "    \n",
    "    corr.append(np.corrcoef(returns[i:i+batch_len], returns[i+batch_len:i+batch_len*2])[0, 1])\n",
    "    i += 1\n",
    "\n",
    "while j + batch_len*2 <= len(sim_returns):\n",
    "    \n",
    "    sim_corr.append(np.corrcoef(sim_returns[j:j+batch_len], sim_returns[j+batch_len:j+batch_len*2])[0, 1])\n",
    "    j += 1\n",
    "\n",
    "# plot\n",
    "plt.hist(corr, bins=50, density=1, range=(-1, 1), label=\"actual\", alpha=0.5)\n",
    "plt.hist(sim_corr, bins=50, density=1, range=(-1, 1), label=\"simulation\", alpha=0.5)\n",
    "plt.title('Autocorrelation period (lag=1, window=30)')\n",
    "plt.ylabel('Frequecy')\n",
    "plt.xlabel('Correlation coefficient')\n",
    "\n",
    "plt.legend()\n",
    "plt.show()\n",
    "\n",
    "plt.savefig('Autocorrelation_period')"
   ]
  },
  {
   "cell_type": "markdown",
   "metadata": {},
   "source": [
    "### 3. Volatility clustering \n",
    "We will set the asset return times scale $(\\Delta t)$ to 1 minute and $\\tau$ to between 1 minute and 60 min\n",
    " \n",
    "\n",
    "\n",
    "\\begin{equation}\n",
    "corr(r_{t + \\tau, \\Delta t}^2, r_{t, \\Delta t}^2)\n",
    "\\end{equation}\n",
    "\n",
    "*--We need more data--*"
   ]
  },
  {
   "cell_type": "code",
   "execution_count": 8,
   "metadata": {},
   "outputs": [
    {
     "data": {
      "image/png": "[encoded data removed]",
      "text/plain": [
       "<Figure size 432x288 with 1 Axes>"
      ]
     },
     "metadata": {
      "needs_background": "light"
     },
     "output_type": "display_data"
    }
   ],
   "source": [
    "# set correlation period and asset return interval\n",
    "\n",
    "# check correlation period of upto an hour\n",
    "corr_period = range(1, 61)\n",
    "asset_return_interval = 1\n",
    "\n",
    "\n",
    "corr = []\n",
    "sim_corr = []\n",
    "\n",
    "\n",
    "# Convert price data to asset returns data\n",
    "returns = mid_price.diff(periods=1)[1:]\n",
    "sim_returns = sim_mid_price.diff(periods=1)[1:]\n",
    "\n",
    "\n",
    "# Convert asset returns data to correlation over set periods \n",
    "for i in corr_period:\n",
    "    \n",
    "    corr.append(np.corrcoef(returns[0:-1*i]**2, returns[i:]**2)[0, 1])\n",
    "    sim_corr.append(np.corrcoef(sim_returns[0:-1*i]**2, sim_returns[i:]**2)[0, 1])\n",
    "\n",
    "\n",
    "# Plot correlation\n",
    "plt.plot(corr, label=\"Actual\")\n",
    "plt.plot(sim_corr, label=\"Simulation\")\n",
    "plt.title('Volatility clustering/long range dependence')\n",
    "plt.ylabel('Correlation coefficient')\n",
    "plt.xlabel('Lag')\n",
    "\n",
    "plt.legend()\n",
    "\n",
    "plt.savefig('Volatility_clustering.png')"
   ]
  },
  {
   "cell_type": "markdown",
   "metadata": {},
   "source": [
    "### 4. Volume/volatility correlation\n",
    "\n",
    "not so good. We need a way to find actual volume as opposed to LOB volume"
   ]
  },
  {
   "cell_type": "code",
   "execution_count": 9,
   "metadata": {},
   "outputs": [],
   "source": [
    "# 30 minutes of volume and volatility collected per observation\n",
    "corr_len = 30\n",
    "\n",
    "# 100 samples of 30 minute volume/volatility to calculate correlation\n",
    "size = 100\n",
    "\n",
    "# append the 100 samples of correlation in \"corr\" variable\n",
    "corr = []\n",
    "sample_corr = []\n"
   ]
  },
  {
   "cell_type": "code",
   "execution_count": 10,
   "metadata": {},
   "outputs": [],
   "source": [
    "\"\"\"\n",
    "for simulated data\n",
    "\"\"\"\n",
    "\n",
    "# select number of samples with a predetermined size\n",
    "for batch_end in range(size, len(sim_orders)):\n",
    "\n",
    "    # initialise for each batch\n",
    "    sim_volume = []\n",
    "    sim_volatility = []\n",
    "\n",
    "    # find correlation for each batch by calculating volume and volatility\n",
    "    for i in range(batch_end - size, batch_end - corr_len):\n",
    "\n",
    "        sim_volume.append(sim_orders.volume[i:i+corr_len].sum())\n",
    "        sim_volatility.append(sim_orders.open[i:i+corr_len].std())\n",
    "        \n",
    "    sim_corr.append(np.corrcoef(sim_volume, sim_volatility)[0,1])\n",
    "\n"
   ]
  },
  {
   "cell_type": "code",
   "execution_count": 11,
   "metadata": {},
   "outputs": [
    {
     "data": {
      "image/png": "[encoded data removed]",
      "text/plain": [
       "<Figure size 432x288 with 1 Axes>"
      ]
     },
     "metadata": {
      "needs_background": "light"
     },
     "output_type": "display_data"
    },
    {
     "data": {
      "text/plain": [
       "<Figure size 432x288 with 0 Axes>"
      ]
     },
     "metadata": {},
     "output_type": "display_data"
    }
   ],
   "source": [
    "# plot\n",
    "plt.hist(sim_corr, bins=50, density=1, alpha=0.5, label='Simulation')\n",
    "plt.title('Volume/volatility correlation')\n",
    "plt.ylabel('Frequecy')\n",
    "plt.xlabel('Correlation coefficient')\n",
    "plt.show()\n",
    "\n",
    "plt.savefig('Volume_volatility_correlation.png')"
   ]
  },
  {
   "cell_type": "markdown",
   "metadata": {},
   "source": [
    "### 5. Number of orders in a fixed time window\n",
    "\n",
    "Number of orders in a fixed time window is approximated by gamma/lognormal distribution "
   ]
  },
  {
   "cell_type": "code",
   "execution_count": 12,
   "metadata": {},
   "outputs": [],
   "source": [
    "# initialise\n",
    "interval = 5 #5 minute interval\n",
    "order_count = []\n",
    "sim_order_count = []"
   ]
  },
  {
   "cell_type": "code",
   "execution_count": 13,
   "metadata": {},
   "outputs": [],
   "source": [
    "\"\"\"\n",
    "Simulated data\n",
    "\"\"\"\n",
    "\n",
    "# identifty rough starting time - probably to the nearest minute\n",
    "sim_start_time = sim_order_stream.Time[0].ceil(\"min\")\n",
    "sim_end_time = sim_order_stream.Time[-1].floor(\"min\")\n",
    "sim_time_delta = sim_end_time - sim_start_time\n",
    "sim_total_minutes = int(sim_time_delta.total_seconds()/60)\n",
    "\n",
    "# find out number of orders in 5 minute interval\n",
    "# loop this by shifting interval by 1 minute at a time\n",
    "for i in range(sim_total_minutes - interval):\n",
    "    \n",
    "    sim_int_start = sim_start_time + pd.Timedelta(minutes=i)\n",
    "    sim_int_end = sim_start_time + pd.Timedelta(minutes=5+i)\n",
    "\n",
    "    sim_order_count.append(len(sim_order_stream.index[(sim_order_stream.index > sim_int_start) & (sim_order_stream.index < sim_int_end)]))"
   ]
  },
  {
   "cell_type": "code",
   "execution_count": 14,
   "metadata": {},
   "outputs": [
    {
     "data": {
      "image/png": "[encoded data removed]",
      "text/plain": [
       "<Figure size 432x288 with 1 Axes>"
      ]
     },
     "metadata": {
      "needs_background": "light"
     },
     "output_type": "display_data"
    },
    {
     "data": {
      "text/plain": [
       "<Figure size 432x288 with 0 Axes>"
      ]
     },
     "metadata": {},
     "output_type": "display_data"
    }
   ],
   "source": [
    "# plot histogram of results\n",
    "plt.hist(sim_order_count, 100, density=1)\n",
    "\n",
    "# plot weibull distribution\n",
    "#plt.plot(order_count, stats.gamma.pdf(order_count, *stats.gamma.fit(order_count, 100)))\n",
    "plt.title('Order volume within time window tau=300 seconds')\n",
    "plt.ylabel('Empirical density')\n",
    "plt.xlabel('Number of trades')\n",
    "plt.show()\n",
    "\n",
    "plt.savefig('Order_Volume.png')\n",
    "#plt.plot(order_count, stats.exponweib.pdf(sim_order_count, *stats.exponweib.fit(sim_order_count, 1, 1, scale=2, loc=0)))\n"
   ]
  },
  {
   "cell_type": "markdown",
   "metadata": {},
   "source": [
    "### 6. Order interarrival times\n",
    "\n",
    "Order inter-arrival times are suggested to be fit into exponential, lognormal, and Weibull distributions"
   ]
  },
  {
   "cell_type": "code",
   "execution_count": 15,
   "metadata": {},
   "outputs": [
    {
     "data": {
      "image/png": "[encoded data removed]",
      "text/plain": [
       "<Figure size 432x288 with 1 Axes>"
      ]
     },
     "metadata": {
      "needs_background": "light"
     },
     "output_type": "display_data"
    },
    {
     "data": {
      "text/plain": [
       "<Figure size 432x288 with 0 Axes>"
      ]
     },
     "metadata": {},
     "output_type": "display_data"
    }
   ],
   "source": [
    "#inter_arrival = order_stream.time.diff(1)[1:].dt.total_seconds()\n",
    "sim_inter_arrival = sim_order_stream.Time.diff(1)[1:].dt.microseconds*10e-6\n",
    "\n",
    "\n",
    "#plt.hist(inter_arrival, bins=100, log=True, label=\"Actual\", alpha=0.5)\n",
    "plt.hist(sim_inter_arrival, bins=100, log=True, alpha=0.5)\n",
    "plt.title('Distribution of interarrival times')\n",
    "plt.ylabel('Empirical density')\n",
    "plt.xlabel('Interarrival time /s')\n",
    "plt.show()\n",
    "\n",
    "plt.savefig('Distribution_interarrival_times.png')"
   ]
  },
  {
   "cell_type": "markdown",
   "metadata": {},
   "source": [
    "- Returns/volatility negative correlation"
   ]
  },
  {
   "cell_type": "code",
   "execution_count": 16,
   "metadata": {},
   "outputs": [
    {
     "name": "stdout",
     "output_type": "stream",
     "text": [
      "[[1.         0.57457041]\n",
      " [0.57457041 1.        ]]\n"
     ]
    }
   ],
   "source": [
    "# set correlation period and asset return interval\n",
    "\n",
    "# check correlation period of upto an hour\n",
    "asset_return_interval = 15#,2,5,10,15,20,30,45,60]\n",
    "\n",
    "returns_set = []\n",
    "volatility_set = []\n",
    "\n",
    "# Convert price data to asset returns data\n",
    "returns_set = ohlcv.open.diff(periods=asset_return_interval)[asset_return_interval:]\n",
    "\n",
    "\n",
    "for i in range(len(ohlcv) - asset_return_interval):\n",
    "\n",
    "    volatility_set.append(np.std(ohlcv.open[i:i+asset_return_interval]))\n",
    "\n",
    "\n",
    "print(np.corrcoef(returns_set, volatility_set))\n",
    "\n"
   ]
  },
  {
   "cell_type": "markdown",
   "metadata": {},
   "source": [
    "- Best Bid/Ask distributed according to Gama distribution\n"
   ]
  },
  {
   "cell_type": "code",
   "execution_count": 17,
   "metadata": {},
   "outputs": [
    {
     "data": {
      "text/plain": [
       "<matplotlib.collections.LineCollection at 0x1fd59bb8a60>"
      ]
     },
     "execution_count": 17,
     "metadata": {},
     "output_type": "execute_result"
    },
    {
     "data": {
      "image/png": "[encoded data removed]",
      "text/plain": [
       "<Figure size 432x288 with 1 Axes>"
      ]
     },
     "metadata": {
      "needs_background": "light"
     },
     "output_type": "display_data"
    }
   ],
   "source": [
    "asset_return_interval = range(1,60)\n",
    "kurtosis = []\n",
    "\n",
    "# Convert price data to asset returns data\n",
    "#fig, ax = plt.subplots(nrows=len(asset_return_interval), ncols=1, figsize=(5, len(asset_return_interval)*5))\n",
    "axis = 0\n",
    "\n",
    "for i in asset_return_interval:\n",
    "\n",
    "    # calculate asset returns\n",
    "    returns = mid_price.diff(periods=i)[i:]\n",
    "\n",
    "    \"\"\"\n",
    "    # plot\n",
    "    ax[axis].hist(returns, 50)\n",
    "    axis += 1\n",
    "    \"\"\"\n",
    "\n",
    "    # record kurtosis\n",
    "    kurtosis.append(stats.kurtosis(returns, fisher=False))\n",
    "\n",
    "plt.plot(asset_return_interval, kurtosis)\n",
    "plt.hlines(3, xmin=0, xmax=60)"
   ]
  }
 ],
 "metadata": {
  "kernelspec": {
   "display_name": "Python 3",
   "language": "python",
   "name": "python3"
  },
  "language_info": {
   "codemirror_mode": {
    "name": "ipython",
    "version": 3
   },
   "file_extension": ".py",
   "mimetype": "text/x-python",
   "name": "python",
   "nbconvert_exporter": "python",
   "pygments_lexer": "ipython3",
   "version": "3.8.8"
  },
  "metadata": {
   "interpreter": {
    "hash": "d7a185c7189272243b4823288e938adbf8a9c14fac77efacc5e58c48a0cfe526"
   }
  }
 },
 "nbformat": 4,
 "nbformat_minor": 2
}
